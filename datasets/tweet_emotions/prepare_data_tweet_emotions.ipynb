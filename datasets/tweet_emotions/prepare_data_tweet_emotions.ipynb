{
 "cells": [
  {
   "cell_type": "markdown",
   "id": "435deae5",
   "metadata": {},
   "source": [
    "# Tweet Emotions "
   ]
  },
  {
   "cell_type": "code",
   "execution_count": 1,
   "id": "0352619b",
   "metadata": {},
   "outputs": [],
   "source": [
    "import numpy as np, pandas as pd\n",
    "import os, sys\n",
    "import math\n",
    "import shutil\n",
    "import zipfile\n",
    "import string\n",
    "import random"
   ]
  },
  {
   "cell_type": "markdown",
   "id": "10b1dc7c",
   "metadata": {},
   "source": [
    "# Paths and Variables"
   ]
  },
  {
   "cell_type": "code",
   "execution_count": 3,
   "id": "da4cd1a4",
   "metadata": {},
   "outputs": [],
   "source": [
    "dataset_name = \"tweet_emotions\""
   ]
  },
  {
   "cell_type": "code",
   "execution_count": 4,
   "id": "b003e89f",
   "metadata": {},
   "outputs": [],
   "source": [
    "input_dir = './raw'\n",
    "output_dir = './processed'\n",
    "\n",
    "outp_fname = os.path.join(output_dir, f'{dataset_name}.csv')\n",
    "outp_train_fname = os.path.join(output_dir, f'{dataset_name}_train.csv')\n",
    "outp_test_fname = os.path.join(output_dir, f'{dataset_name}_test.csv')\n",
    "outp_test_key_fname = os.path.join(output_dir, f'{dataset_name}_test_key.csv')"
   ]
  },
  {
   "cell_type": "code",
   "execution_count": 5,
   "id": "2e1d2a53",
   "metadata": {},
   "outputs": [],
   "source": [
    "inp_fname = 'tweet_emotions.csv'"
   ]
  },
  {
   "cell_type": "markdown",
   "id": "7a1a470b",
   "metadata": {},
   "source": [
    "# Read data into a DataFrame"
   ]
  },
  {
   "cell_type": "code",
   "execution_count": 7,
   "id": "221b8f9b",
   "metadata": {},
   "outputs": [
    {
     "data": {
      "text/html": [
       "<div>\n",
       "<style scoped>\n",
       "    .dataframe tbody tr th:only-of-type {\n",
       "        vertical-align: middle;\n",
       "    }\n",
       "\n",
       "    .dataframe tbody tr th {\n",
       "        vertical-align: top;\n",
       "    }\n",
       "\n",
       "    .dataframe thead th {\n",
       "        text-align: right;\n",
       "    }\n",
       "</style>\n",
       "<table border=\"1\" class=\"dataframe\">\n",
       "  <thead>\n",
       "    <tr style=\"text-align: right;\">\n",
       "      <th></th>\n",
       "      <th>tweet_id</th>\n",
       "      <th>sentiment</th>\n",
       "      <th>content</th>\n",
       "    </tr>\n",
       "  </thead>\n",
       "  <tbody>\n",
       "    <tr>\n",
       "      <th>0</th>\n",
       "      <td>1956967341</td>\n",
       "      <td>empty</td>\n",
       "      <td>@tiffanylue i know  i was listenin to bad habi...</td>\n",
       "    </tr>\n",
       "    <tr>\n",
       "      <th>1</th>\n",
       "      <td>1956967666</td>\n",
       "      <td>sadness</td>\n",
       "      <td>Layin n bed with a headache  ughhhh...waitin o...</td>\n",
       "    </tr>\n",
       "    <tr>\n",
       "      <th>2</th>\n",
       "      <td>1956967696</td>\n",
       "      <td>sadness</td>\n",
       "      <td>Funeral ceremony...gloomy friday...</td>\n",
       "    </tr>\n",
       "    <tr>\n",
       "      <th>3</th>\n",
       "      <td>1956967789</td>\n",
       "      <td>enthusiasm</td>\n",
       "      <td>wants to hang out with friends SOON!</td>\n",
       "    </tr>\n",
       "    <tr>\n",
       "      <th>4</th>\n",
       "      <td>1956968416</td>\n",
       "      <td>neutral</td>\n",
       "      <td>@dannycastillo We want to trade with someone w...</td>\n",
       "    </tr>\n",
       "  </tbody>\n",
       "</table>\n",
       "</div>"
      ],
      "text/plain": [
       "     tweet_id   sentiment                                            content\n",
       "0  1956967341       empty  @tiffanylue i know  i was listenin to bad habi...\n",
       "1  1956967666     sadness  Layin n bed with a headache  ughhhh...waitin o...\n",
       "2  1956967696     sadness                Funeral ceremony...gloomy friday...\n",
       "3  1956967789  enthusiasm               wants to hang out with friends SOON!\n",
       "4  1956968416     neutral  @dannycastillo We want to trade with someone w..."
      ]
     },
     "execution_count": 7,
     "metadata": {},
     "output_type": "execute_result"
    }
   ],
   "source": [
    "data = pd.read_csv(os.path.join(input_dir, inp_fname))\n",
    "data.head()"
   ]
  },
  {
   "cell_type": "code",
   "execution_count": 8,
   "id": "4a1b3093",
   "metadata": {},
   "outputs": [],
   "source": [
    "id_col = \"tweet_id\"\n",
    "target_col = \"sentiment\"\n",
    "text_col = \"content\""
   ]
  },
  {
   "cell_type": "code",
   "execution_count": 9,
   "id": "095364e8",
   "metadata": {},
   "outputs": [
    {
     "data": {
      "text/plain": [
       "neutral       8638\n",
       "worry         8459\n",
       "happiness     5209\n",
       "sadness       5165\n",
       "love          3842\n",
       "surprise      2187\n",
       "fun           1776\n",
       "relief        1526\n",
       "hate          1323\n",
       "empty          827\n",
       "enthusiasm     759\n",
       "boredom        179\n",
       "anger          110\n",
       "Name: sentiment, dtype: int64"
      ]
     },
     "execution_count": 9,
     "metadata": {},
     "output_type": "execute_result"
    }
   ],
   "source": [
    "data[target_col].value_counts()"
   ]
  },
  {
   "cell_type": "markdown",
   "id": "f1ba9596",
   "metadata": {},
   "source": [
    "# Shuffle Data"
   ]
  },
  {
   "cell_type": "code",
   "execution_count": 10,
   "id": "feb03784",
   "metadata": {},
   "outputs": [
    {
     "name": "stdout",
     "output_type": "stream",
     "text": [
      "(40000, 3)\n"
     ]
    },
    {
     "data": {
      "text/html": [
       "<div>\n",
       "<style scoped>\n",
       "    .dataframe tbody tr th:only-of-type {\n",
       "        vertical-align: middle;\n",
       "    }\n",
       "\n",
       "    .dataframe tbody tr th {\n",
       "        vertical-align: top;\n",
       "    }\n",
       "\n",
       "    .dataframe thead th {\n",
       "        text-align: right;\n",
       "    }\n",
       "</style>\n",
       "<table border=\"1\" class=\"dataframe\">\n",
       "  <thead>\n",
       "    <tr style=\"text-align: right;\">\n",
       "      <th></th>\n",
       "      <th>tweet_id</th>\n",
       "      <th>sentiment</th>\n",
       "      <th>content</th>\n",
       "    </tr>\n",
       "  </thead>\n",
       "  <tbody>\n",
       "    <tr>\n",
       "      <th>32823</th>\n",
       "      <td>1752414968</td>\n",
       "      <td>neutral</td>\n",
       "      <td>Good Morning</td>\n",
       "    </tr>\n",
       "    <tr>\n",
       "      <th>16298</th>\n",
       "      <td>1965295852</td>\n",
       "      <td>empty</td>\n",
       "      <td>I just put my computer up on craigslist. I've ...</td>\n",
       "    </tr>\n",
       "    <tr>\n",
       "      <th>28505</th>\n",
       "      <td>1696219218</td>\n",
       "      <td>love</td>\n",
       "      <td>in ten minutes shopping   demi lovato-back aro...</td>\n",
       "    </tr>\n",
       "    <tr>\n",
       "      <th>6689</th>\n",
       "      <td>1961416554</td>\n",
       "      <td>neutral</td>\n",
       "      <td>From twitterberry moved to ubertwitter - suffe...</td>\n",
       "    </tr>\n",
       "    <tr>\n",
       "      <th>26893</th>\n",
       "      <td>1695580473</td>\n",
       "      <td>sadness</td>\n",
       "      <td>@thriftymom TEAR*</td>\n",
       "    </tr>\n",
       "  </tbody>\n",
       "</table>\n",
       "</div>"
      ],
      "text/plain": [
       "         tweet_id sentiment                                            content\n",
       "32823  1752414968   neutral                                       Good Morning\n",
       "16298  1965295852     empty  I just put my computer up on craigslist. I've ...\n",
       "28505  1696219218      love  in ten minutes shopping   demi lovato-back aro...\n",
       "6689   1961416554   neutral  From twitterberry moved to ubertwitter - suffe...\n",
       "26893  1695580473   sadness                                  @thriftymom TEAR*"
      ]
     },
     "execution_count": 10,
     "metadata": {},
     "output_type": "execute_result"
    }
   ],
   "source": [
    "# shuffle data\n",
    "data = data.sample(frac=1, random_state=42)\n",
    "print(data.shape)\n",
    "data.head()"
   ]
  },
  {
   "cell_type": "markdown",
   "id": "98a5f1bc",
   "metadata": {},
   "source": [
    "# Insert Id Column"
   ]
  },
  {
   "cell_type": "code",
   "execution_count": 11,
   "id": "ab321115",
   "metadata": {},
   "outputs": [],
   "source": [
    "# insert Id column \n",
    "if id_col not in data.columns:\n",
    "    N = data.shape[0]\n",
    "    data.insert(0, id_col, np.arange(N))\n",
    "    print(data.head())"
   ]
  },
  {
   "cell_type": "markdown",
   "id": "0dbab693",
   "metadata": {},
   "source": [
    "# Utility to Save DF as a zipped file"
   ]
  },
  {
   "cell_type": "code",
   "execution_count": 12,
   "id": "73931a33",
   "metadata": {},
   "outputs": [],
   "source": [
    "def save_df_to_zipped_csv(df, ftype=None): \n",
    "    if ftype is not None: \n",
    "        suffix = f'_{ftype}'\n",
    "    else: \n",
    "        suffix = ''\n",
    "        \n",
    "    zipped_f_name = f'{dataset_name}{suffix}.zip'\n",
    "    archive_f_name = f'{dataset_name}{suffix}.csv'   \n",
    "    compression_opts = dict(method='zip',\n",
    "                        archive_name=archive_f_name)      \n",
    "    df.to_csv(os.path.join(output_dir, zipped_f_name), index=False, compression=compression_opts )"
   ]
  },
  {
   "cell_type": "markdown",
   "id": "a44b8a8d",
   "metadata": {},
   "source": [
    "# Save Main Data File"
   ]
  },
  {
   "cell_type": "code",
   "execution_count": 13,
   "id": "25d0737e",
   "metadata": {},
   "outputs": [],
   "source": [
    "# # save original file as csv\n",
    "# data.to_csv(outp_fname, index=False)\n",
    "\n",
    "# save as zipped file \n",
    "save_df_to_zipped_csv(data)"
   ]
  },
  {
   "cell_type": "markdown",
   "id": "70963883",
   "metadata": {},
   "source": [
    "# Train Test Split"
   ]
  },
  {
   "cell_type": "code",
   "execution_count": 14,
   "id": "c41eb444",
   "metadata": {},
   "outputs": [
    {
     "name": "stdout",
     "output_type": "stream",
     "text": [
      "(36000, 3) (4000, 2) (4000, 2)\n"
     ]
    }
   ],
   "source": [
    "from sklearn.model_selection import train_test_split\n",
    "test_size = 0.1\n",
    "\n",
    "data_train, data_test = train_test_split(data, test_size=test_size, random_state=42)\n",
    "\n",
    "\n",
    "data_test_key = data_test[[id_col, target_col]].copy()\n",
    "data_test = data_test.drop(columns=[target_col])\n",
    "print(data_train.shape, data_test.shape, data_test_key.shape)\n",
    "\n",
    "# # Save original files as csv\n",
    "# data_train.to_csv(outp_train_fname, index=False)\n",
    "# data_test.to_csv(outp_test_fname, index=False)\n",
    "# data_test_key.to_csv(outp_test_key_fname, index=False)"
   ]
  },
  {
   "cell_type": "code",
   "execution_count": 15,
   "id": "fddf2211",
   "metadata": {},
   "outputs": [],
   "source": [
    "# zip files\n",
    "save_df_to_zipped_csv(data_train, \"train\")\n",
    "save_df_to_zipped_csv(data_test, \"test\")\n",
    "save_df_to_zipped_csv(data_test_key, \"test_key\")"
   ]
  },
  {
   "cell_type": "code",
   "execution_count": null,
   "id": "9c4ede30",
   "metadata": {},
   "outputs": [],
   "source": []
  }
 ],
 "metadata": {
  "kernelspec": {
   "display_name": "Python 3 (ipykernel)",
   "language": "python",
   "name": "python3"
  },
  "language_info": {
   "codemirror_mode": {
    "name": "ipython",
    "version": 3
   },
   "file_extension": ".py",
   "mimetype": "text/x-python",
   "name": "python",
   "nbconvert_exporter": "python",
   "pygments_lexer": "ipython3",
   "version": "3.9.7"
  }
 },
 "nbformat": 4,
 "nbformat_minor": 5
}
