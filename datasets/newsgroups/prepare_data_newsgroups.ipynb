{
 "cells": [
  {
   "cell_type": "markdown",
   "id": "ce1bc9c5",
   "metadata": {},
   "source": [
    "# Newsgroups"
   ]
  },
  {
   "cell_type": "code",
   "execution_count": 8,
   "id": "0352619b",
   "metadata": {},
   "outputs": [],
   "source": [
    "import numpy as np, pandas as pd\n",
    "import os, sys\n",
    "import math\n",
    "import shutil\n",
    "import uuid\n",
    "import zipfile\n",
    "import string\n",
    "import random"
   ]
  },
  {
   "cell_type": "markdown",
   "id": "f2708acb",
   "metadata": {},
   "source": [
    "# Paths and Variables"
   ]
  },
  {
   "cell_type": "code",
   "execution_count": 9,
   "id": "b12ac3ce",
   "metadata": {},
   "outputs": [],
   "source": [
    "dataset_name = \"newsgroups\""
   ]
  },
  {
   "cell_type": "code",
   "execution_count": 10,
   "id": "b003e89f",
   "metadata": {},
   "outputs": [],
   "source": [
    "input_dir = './raw'\n",
    "output_dir = './processed'\n",
    "\n",
    "outp_fname = os.path.join(output_dir, f'{dataset_name}.csv')\n",
    "outp_train_fname = os.path.join(output_dir, f'{dataset_name}_train.csv')\n",
    "outp_test_fname = os.path.join(output_dir, f'{dataset_name}_test.csv')\n",
    "outp_test_key_fname = os.path.join(output_dir, f'{dataset_name}_test_key.csv')"
   ]
  },
  {
   "cell_type": "markdown",
   "id": "7e029683",
   "metadata": {},
   "source": [
    "# Get data from sklearn datasets"
   ]
  },
  {
   "cell_type": "code",
   "execution_count": 17,
   "id": "ee854c29",
   "metadata": {},
   "outputs": [],
   "source": [
    "from sklearn.datasets import fetch_20newsgroups\n",
    "newsgroups_all = fetch_20newsgroups(subset='all', remove=('headers', 'footers', 'quotes'))\n",
    "# newsgroups_test = fetch_20newsgroups(subset='test', remove=('headers', 'footers'))"
   ]
  },
  {
   "cell_type": "code",
   "execution_count": 18,
   "id": "a971e749",
   "metadata": {},
   "outputs": [
    {
     "data": {
      "text/plain": [
       "(18846, 18846, 18846)"
      ]
     },
     "execution_count": 18,
     "metadata": {},
     "output_type": "execute_result"
    }
   ],
   "source": [
    "documents = newsgroups_all.data\n",
    "targets = list(newsgroups_all.target) \n",
    "fnames = list(newsgroups_all.filenames) \n",
    "len(documents), len(targets), len(fnames)"
   ]
  },
  {
   "cell_type": "code",
   "execution_count": 19,
   "id": "33e237c4",
   "metadata": {},
   "outputs": [],
   "source": [
    "id_col = \"id\"\n",
    "target_col = \"newsgroup\"\n",
    "text_col = \"text\""
   ]
  },
  {
   "cell_type": "code",
   "execution_count": 20,
   "id": "7bfe68a7",
   "metadata": {},
   "outputs": [
    {
     "data": {
      "text/html": [
       "<div>\n",
       "<style scoped>\n",
       "    .dataframe tbody tr th:only-of-type {\n",
       "        vertical-align: middle;\n",
       "    }\n",
       "\n",
       "    .dataframe tbody tr th {\n",
       "        vertical-align: top;\n",
       "    }\n",
       "\n",
       "    .dataframe thead th {\n",
       "        text-align: right;\n",
       "    }\n",
       "</style>\n",
       "<table border=\"1\" class=\"dataframe\">\n",
       "  <thead>\n",
       "    <tr style=\"text-align: right;\">\n",
       "      <th></th>\n",
       "      <th>id</th>\n",
       "      <th>newsgroup</th>\n",
       "      <th>text</th>\n",
       "    </tr>\n",
       "  </thead>\n",
       "  <tbody>\n",
       "    <tr>\n",
       "      <th>0</th>\n",
       "      <td>54367</td>\n",
       "      <td>10</td>\n",
       "      <td>\\n\\nI am sure some bashers of Pens fans are pr...</td>\n",
       "    </tr>\n",
       "    <tr>\n",
       "      <th>1</th>\n",
       "      <td>60215</td>\n",
       "      <td>3</td>\n",
       "      <td>My brother is in the market for a high-perform...</td>\n",
       "    </tr>\n",
       "    <tr>\n",
       "      <th>2</th>\n",
       "      <td>76120</td>\n",
       "      <td>17</td>\n",
       "      <td>\\n\\n\\n\\n\\tFinally you said what you dream abou...</td>\n",
       "    </tr>\n",
       "    <tr>\n",
       "      <th>3</th>\n",
       "      <td>60771</td>\n",
       "      <td>3</td>\n",
       "      <td>\\nThink!\\n\\nIt's the SCSI card doing the DMA t...</td>\n",
       "    </tr>\n",
       "    <tr>\n",
       "      <th>4</th>\n",
       "      <td>51882</td>\n",
       "      <td>4</td>\n",
       "      <td>1)    I have an old Jasmine drive which I cann...</td>\n",
       "    </tr>\n",
       "  </tbody>\n",
       "</table>\n",
       "</div>"
      ],
      "text/plain": [
       "      id newsgroup                                               text\n",
       "0  54367        10  \\n\\nI am sure some bashers of Pens fans are pr...\n",
       "1  60215         3  My brother is in the market for a high-perform...\n",
       "2  76120        17  \\n\\n\\n\\n\\tFinally you said what you dream abou...\n",
       "3  60771         3  \\nThink!\\n\\nIt's the SCSI card doing the DMA t...\n",
       "4  51882         4  1)    I have an old Jasmine drive which I cann..."
      ]
     },
     "execution_count": 20,
     "metadata": {},
     "output_type": "execute_result"
    }
   ],
   "source": [
    "data = pd.DataFrame(data=[fnames,targets, documents]).transpose()\n",
    "data.columns = [id_col, target_col, text_col]\n",
    "data[id_col] = data[id_col].apply(lambda p: os.path.basename(p))\n",
    "data.head()"
   ]
  },
  {
   "cell_type": "code",
   "execution_count": 21,
   "id": "42acf66f",
   "metadata": {},
   "outputs": [
    {
     "data": {
      "text/html": [
       "<div>\n",
       "<style scoped>\n",
       "    .dataframe tbody tr th:only-of-type {\n",
       "        vertical-align: middle;\n",
       "    }\n",
       "\n",
       "    .dataframe tbody tr th {\n",
       "        vertical-align: top;\n",
       "    }\n",
       "\n",
       "    .dataframe thead th {\n",
       "        text-align: right;\n",
       "    }\n",
       "</style>\n",
       "<table border=\"1\" class=\"dataframe\">\n",
       "  <thead>\n",
       "    <tr style=\"text-align: right;\">\n",
       "      <th></th>\n",
       "      <th>id</th>\n",
       "      <th>newsgroup</th>\n",
       "      <th>text</th>\n",
       "    </tr>\n",
       "  </thead>\n",
       "  <tbody>\n",
       "    <tr>\n",
       "      <th>0</th>\n",
       "      <td>54367</td>\n",
       "      <td>rec.sport.hockey</td>\n",
       "      <td>\\n\\nI am sure some bashers of Pens fans are pr...</td>\n",
       "    </tr>\n",
       "    <tr>\n",
       "      <th>1</th>\n",
       "      <td>60215</td>\n",
       "      <td>comp.sys.ibm.pc.hardware</td>\n",
       "      <td>My brother is in the market for a high-perform...</td>\n",
       "    </tr>\n",
       "    <tr>\n",
       "      <th>2</th>\n",
       "      <td>76120</td>\n",
       "      <td>talk.politics.mideast</td>\n",
       "      <td>\\n\\n\\n\\n\\tFinally you said what you dream abou...</td>\n",
       "    </tr>\n",
       "    <tr>\n",
       "      <th>3</th>\n",
       "      <td>60771</td>\n",
       "      <td>comp.sys.ibm.pc.hardware</td>\n",
       "      <td>\\nThink!\\n\\nIt's the SCSI card doing the DMA t...</td>\n",
       "    </tr>\n",
       "    <tr>\n",
       "      <th>4</th>\n",
       "      <td>51882</td>\n",
       "      <td>comp.sys.mac.hardware</td>\n",
       "      <td>1)    I have an old Jasmine drive which I cann...</td>\n",
       "    </tr>\n",
       "  </tbody>\n",
       "</table>\n",
       "</div>"
      ],
      "text/plain": [
       "      id                 newsgroup  \\\n",
       "0  54367          rec.sport.hockey   \n",
       "1  60215  comp.sys.ibm.pc.hardware   \n",
       "2  76120     talk.politics.mideast   \n",
       "3  60771  comp.sys.ibm.pc.hardware   \n",
       "4  51882     comp.sys.mac.hardware   \n",
       "\n",
       "                                                text  \n",
       "0  \\n\\nI am sure some bashers of Pens fans are pr...  \n",
       "1  My brother is in the market for a high-perform...  \n",
       "2  \\n\\n\\n\\n\\tFinally you said what you dream abou...  \n",
       "3  \\nThink!\\n\\nIt's the SCSI card doing the DMA t...  \n",
       "4  1)    I have an old Jasmine drive which I cann...  "
      ]
     },
     "execution_count": 21,
     "metadata": {},
     "output_type": "execute_result"
    }
   ],
   "source": [
    "newsgroups_idx_to_name = {i:v for i,v in enumerate(newsgroups_all.target_names)}\n",
    "data[target_col] = data[target_col].map(newsgroups_idx_to_name)\n",
    "data.head()"
   ]
  },
  {
   "cell_type": "markdown",
   "id": "0d6b22d8",
   "metadata": {},
   "source": [
    "# Prepare Data"
   ]
  },
  {
   "cell_type": "code",
   "execution_count": 22,
   "id": "477cdb7f",
   "metadata": {},
   "outputs": [
    {
     "data": {
      "text/html": [
       "<div>\n",
       "<style scoped>\n",
       "    .dataframe tbody tr th:only-of-type {\n",
       "        vertical-align: middle;\n",
       "    }\n",
       "\n",
       "    .dataframe tbody tr th {\n",
       "        vertical-align: top;\n",
       "    }\n",
       "\n",
       "    .dataframe thead th {\n",
       "        text-align: right;\n",
       "    }\n",
       "</style>\n",
       "<table border=\"1\" class=\"dataframe\">\n",
       "  <thead>\n",
       "    <tr style=\"text-align: right;\">\n",
       "      <th></th>\n",
       "      <th>id</th>\n",
       "      <th>newsgroup</th>\n",
       "      <th>text</th>\n",
       "      <th>char_len</th>\n",
       "    </tr>\n",
       "  </thead>\n",
       "  <tbody>\n",
       "    <tr>\n",
       "      <th>0</th>\n",
       "      <td>54367</td>\n",
       "      <td>rec.sport.hockey</td>\n",
       "      <td>\\n\\nI am sure some bashers of Pens fans are pr...</td>\n",
       "      <td>712</td>\n",
       "    </tr>\n",
       "    <tr>\n",
       "      <th>1</th>\n",
       "      <td>60215</td>\n",
       "      <td>comp.sys.ibm.pc.hardware</td>\n",
       "      <td>My brother is in the market for a high-perform...</td>\n",
       "      <td>324</td>\n",
       "    </tr>\n",
       "    <tr>\n",
       "      <th>2</th>\n",
       "      <td>76120</td>\n",
       "      <td>talk.politics.mideast</td>\n",
       "      <td>\\n\\n\\n\\n\\tFinally you said what you dream abou...</td>\n",
       "      <td>1678</td>\n",
       "    </tr>\n",
       "    <tr>\n",
       "      <th>3</th>\n",
       "      <td>60771</td>\n",
       "      <td>comp.sys.ibm.pc.hardware</td>\n",
       "      <td>\\nThink!\\n\\nIt's the SCSI card doing the DMA t...</td>\n",
       "      <td>781</td>\n",
       "    </tr>\n",
       "    <tr>\n",
       "      <th>4</th>\n",
       "      <td>51882</td>\n",
       "      <td>comp.sys.mac.hardware</td>\n",
       "      <td>1)    I have an old Jasmine drive which I cann...</td>\n",
       "      <td>666</td>\n",
       "    </tr>\n",
       "  </tbody>\n",
       "</table>\n",
       "</div>"
      ],
      "text/plain": [
       "      id                 newsgroup  \\\n",
       "0  54367          rec.sport.hockey   \n",
       "1  60215  comp.sys.ibm.pc.hardware   \n",
       "2  76120     talk.politics.mideast   \n",
       "3  60771  comp.sys.ibm.pc.hardware   \n",
       "4  51882     comp.sys.mac.hardware   \n",
       "\n",
       "                                                text  char_len  \n",
       "0  \\n\\nI am sure some bashers of Pens fans are pr...       712  \n",
       "1  My brother is in the market for a high-perform...       324  \n",
       "2  \\n\\n\\n\\n\\tFinally you said what you dream abou...      1678  \n",
       "3  \\nThink!\\n\\nIt's the SCSI card doing the DMA t...       781  \n",
       "4  1)    I have an old Jasmine drive which I cann...       666  "
      ]
     },
     "execution_count": 22,
     "metadata": {},
     "output_type": "execute_result"
    }
   ],
   "source": [
    "# There are some documents which are empty strings. we will filter them out. \n",
    "data['char_len'] = data['text'].apply(lambda d: len(d))\n",
    "data.head()"
   ]
  },
  {
   "cell_type": "code",
   "execution_count": 23,
   "id": "80047f01",
   "metadata": {},
   "outputs": [
    {
     "data": {
      "text/plain": [
       "(18466, 4)"
      ]
     },
     "execution_count": 23,
     "metadata": {},
     "output_type": "execute_result"
    }
   ],
   "source": [
    "data = data[data['char_len'] > 0]\n",
    "data.shape"
   ]
  },
  {
   "cell_type": "code",
   "execution_count": 24,
   "id": "206c324f",
   "metadata": {},
   "outputs": [],
   "source": [
    "del data['char_len']"
   ]
  },
  {
   "cell_type": "code",
   "execution_count": 25,
   "id": "546d7ec1",
   "metadata": {},
   "outputs": [],
   "source": [
    "# Drop duplicates\n",
    "data.drop_duplicates(subset = [id_col], keep='first', inplace=True)"
   ]
  },
  {
   "cell_type": "markdown",
   "id": "8898ecdd",
   "metadata": {},
   "source": [
    "# Shuffle Data"
   ]
  },
  {
   "cell_type": "code",
   "execution_count": 26,
   "id": "3515943e",
   "metadata": {},
   "outputs": [
    {
     "data": {
      "text/html": [
       "<div>\n",
       "<style scoped>\n",
       "    .dataframe tbody tr th:only-of-type {\n",
       "        vertical-align: middle;\n",
       "    }\n",
       "\n",
       "    .dataframe tbody tr th {\n",
       "        vertical-align: top;\n",
       "    }\n",
       "\n",
       "    .dataframe thead th {\n",
       "        text-align: right;\n",
       "    }\n",
       "</style>\n",
       "<table border=\"1\" class=\"dataframe\">\n",
       "  <thead>\n",
       "    <tr style=\"text-align: right;\">\n",
       "      <th></th>\n",
       "      <th>id</th>\n",
       "      <th>newsgroup</th>\n",
       "      <th>text</th>\n",
       "    </tr>\n",
       "  </thead>\n",
       "  <tbody>\n",
       "    <tr>\n",
       "      <th>15243</th>\n",
       "      <td>83468</td>\n",
       "      <td>talk.religion.misc</td>\n",
       "      <td>\\n\\nOops! Quite right. I got so busy that I sa...</td>\n",
       "    </tr>\n",
       "    <tr>\n",
       "      <th>11948</th>\n",
       "      <td>103342</td>\n",
       "      <td>rec.autos</td>\n",
       "      <td>You guys are correct.  The Bricklin was produc...</td>\n",
       "    </tr>\n",
       "    <tr>\n",
       "      <th>5446</th>\n",
       "      <td>21397</td>\n",
       "      <td>soc.religion.christian</td>\n",
       "      <td>Hi Damon,  No matter what system or explanatio...</td>\n",
       "    </tr>\n",
       "    <tr>\n",
       "      <th>11842</th>\n",
       "      <td>103058</td>\n",
       "      <td>rec.autos</td>\n",
       "      <td>Here is a story.  I bought a car about two wee...</td>\n",
       "    </tr>\n",
       "    <tr>\n",
       "      <th>11975</th>\n",
       "      <td>60938</td>\n",
       "      <td>comp.sys.ibm.pc.hardware</td>\n",
       "      <td>==== BEGIN REPOST ====\\n\\nIBM, Apple, Motorola...</td>\n",
       "    </tr>\n",
       "  </tbody>\n",
       "</table>\n",
       "</div>"
      ],
      "text/plain": [
       "           id                 newsgroup  \\\n",
       "15243   83468        talk.religion.misc   \n",
       "11948  103342                 rec.autos   \n",
       "5446    21397    soc.religion.christian   \n",
       "11842  103058                 rec.autos   \n",
       "11975   60938  comp.sys.ibm.pc.hardware   \n",
       "\n",
       "                                                    text  \n",
       "15243  \\n\\nOops! Quite right. I got so busy that I sa...  \n",
       "11948  You guys are correct.  The Bricklin was produc...  \n",
       "5446   Hi Damon,  No matter what system or explanatio...  \n",
       "11842  Here is a story.  I bought a car about two wee...  \n",
       "11975  ==== BEGIN REPOST ====\\n\\nIBM, Apple, Motorola...  "
      ]
     },
     "execution_count": 26,
     "metadata": {},
     "output_type": "execute_result"
    }
   ],
   "source": [
    "# shuffle data\n",
    "data = data.sample(frac=1, random_state=42)\n",
    "data.head()"
   ]
  },
  {
   "cell_type": "markdown",
   "id": "c784bbdd",
   "metadata": {},
   "source": [
    "# Insert Id Column"
   ]
  },
  {
   "cell_type": "code",
   "execution_count": 27,
   "id": "9c3216c0",
   "metadata": {},
   "outputs": [],
   "source": [
    "# insert Id column \n",
    "if id_col not in data.columns:\n",
    "    N = data.shape[0]\n",
    "    data.insert(0, id_col, np.arange(N))\n",
    "    print(data.head())"
   ]
  },
  {
   "cell_type": "markdown",
   "id": "a2d6a9af",
   "metadata": {},
   "source": [
    "# Utility to Save DF as a zipped file"
   ]
  },
  {
   "cell_type": "code",
   "execution_count": 28,
   "id": "b3eb3b6f",
   "metadata": {},
   "outputs": [],
   "source": [
    "def save_df_to_zipped_csv(df, ftype=None): \n",
    "    if ftype is not None: \n",
    "        suffix = f'_{ftype}'\n",
    "    else: \n",
    "        suffix = ''\n",
    "        \n",
    "    zipped_f_name = f'{dataset_name}{suffix}.zip'\n",
    "    archive_f_name = f'{dataset_name}{suffix}.csv'   \n",
    "    compression_opts = dict(method='zip',\n",
    "                        archive_name=archive_f_name)      \n",
    "    df.to_csv(os.path.join(output_dir, zipped_f_name), index=False, compression=compression_opts )"
   ]
  },
  {
   "cell_type": "markdown",
   "id": "8b0779ae",
   "metadata": {},
   "source": [
    "# Save Main Data File"
   ]
  },
  {
   "cell_type": "code",
   "execution_count": 29,
   "id": "3d68d144",
   "metadata": {},
   "outputs": [],
   "source": [
    "# # save original file as csv\n",
    "# data.to_csv(outp_fname, index=False)\n",
    "\n",
    "# save as zipped file \n",
    "save_df_to_zipped_csv(data)"
   ]
  },
  {
   "cell_type": "markdown",
   "id": "be883988",
   "metadata": {},
   "source": [
    "# Train Test Split"
   ]
  },
  {
   "cell_type": "code",
   "execution_count": 30,
   "id": "819af29c",
   "metadata": {},
   "outputs": [
    {
     "name": "stdout",
     "output_type": "stream",
     "text": [
      "(13643, 3) (1516, 2) (1516, 2)\n"
     ]
    }
   ],
   "source": [
    "from sklearn.model_selection import train_test_split\n",
    "test_size = 0.1\n",
    "\n",
    "data_train, data_test = train_test_split(data, test_size=test_size, random_state=42)\n",
    "\n",
    "\n",
    "data_test_key = data_test[[id_col, target_col]].copy()\n",
    "data_test = data_test.drop(columns=[target_col])\n",
    "print(data_train.shape, data_test.shape, data_test_key.shape)\n",
    "\n",
    "# # Save original files as csv\n",
    "# data_train.to_csv(outp_train_fname, index=False)\n",
    "# data_test.to_csv(outp_test_fname, index=False)\n",
    "# data_test_key.to_csv(outp_test_key_fname, index=False)"
   ]
  },
  {
   "cell_type": "code",
   "execution_count": 31,
   "id": "9550dba5",
   "metadata": {},
   "outputs": [],
   "source": [
    "# zip files\n",
    "save_df_to_zipped_csv(data_train, \"train\")\n",
    "save_df_to_zipped_csv(data_test, \"test\")\n",
    "save_df_to_zipped_csv(data_test_key, \"test_key\")"
   ]
  },
  {
   "cell_type": "code",
   "execution_count": null,
   "id": "caf3715e",
   "metadata": {},
   "outputs": [],
   "source": []
  }
 ],
 "metadata": {
  "kernelspec": {
   "display_name": "Python 3 (ipykernel)",
   "language": "python",
   "name": "python3"
  },
  "language_info": {
   "codemirror_mode": {
    "name": "ipython",
    "version": 3
   },
   "file_extension": ".py",
   "mimetype": "text/x-python",
   "name": "python",
   "nbconvert_exporter": "python",
   "pygments_lexer": "ipython3",
   "version": "3.9.7"
  }
 },
 "nbformat": 4,
 "nbformat_minor": 5
}
