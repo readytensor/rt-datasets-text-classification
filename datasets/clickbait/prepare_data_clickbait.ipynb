{
 "cells": [
  {
   "cell_type": "markdown",
   "id": "52deb82f",
   "metadata": {},
   "source": [
    "# ClickBait"
   ]
  },
  {
   "cell_type": "code",
   "execution_count": 1,
   "id": "0352619b",
   "metadata": {},
   "outputs": [],
   "source": [
    "import numpy as np, pandas as pd\n",
    "import os, sys\n",
    "import math\n",
    "import shutil\n",
    "import zipfile\n",
    "import string\n",
    "import random"
   ]
  },
  {
   "cell_type": "markdown",
   "id": "a08f9f2c",
   "metadata": {},
   "source": [
    "# Paths and Variables"
   ]
  },
  {
   "cell_type": "code",
   "execution_count": 2,
   "id": "55c564f6",
   "metadata": {},
   "outputs": [],
   "source": [
    "dataset_name = 'clickbait'"
   ]
  },
  {
   "cell_type": "code",
   "execution_count": 3,
   "id": "b003e89f",
   "metadata": {},
   "outputs": [],
   "source": [
    "input_dir = './raw'\n",
    "output_dir = './processed'\n",
    "\n",
    "outp_fname = os.path.join(output_dir, f'{dataset_name}.csv')\n",
    "outp_train_fname = os.path.join(output_dir, f'{dataset_name}_train.csv')\n",
    "outp_test_fname = os.path.join(output_dir, f'{dataset_name}_test.csv')\n",
    "outp_test_key_fname = os.path.join(output_dir, f'{dataset_name}_test_key.csv')"
   ]
  },
  {
   "cell_type": "code",
   "execution_count": 4,
   "id": "ad1b5917",
   "metadata": {},
   "outputs": [],
   "source": [
    "id_col = \"id\"\n",
    "target_col = \"class\"\n",
    "text_col = \"text\""
   ]
  },
  {
   "cell_type": "code",
   "execution_count": 5,
   "id": "2e1d2a53",
   "metadata": {},
   "outputs": [],
   "source": [
    "classes_and_files = [['non_clickbait', 'non_clickbait_data'], ['clickbait', 'clickbait_data']]"
   ]
  },
  {
   "cell_type": "markdown",
   "id": "388f2cc1",
   "metadata": {},
   "source": [
    "# Read data into a DataFrame"
   ]
  },
  {
   "cell_type": "code",
   "execution_count": 7,
   "id": "f73da565",
   "metadata": {},
   "outputs": [
    {
     "name": "stdout",
     "output_type": "stream",
     "text": [
      "Done with class non_clickbait\n",
      "Done with class clickbait\n",
      "           class                                               text\n",
      "0  non_clickbait  Bill Changing Credit Card Rules Is Sent to Oba...\n",
      "1  non_clickbait  In Hollywood, the Easy-Money Generation Toughe...\n",
      "2  non_clickbait  1700 runners still unaccounted for in UK's Lak...\n",
      "3  non_clickbait  Yankees Pitchers Trade Fielding Drills for Put...\n",
      "4  non_clickbait  Large earthquake rattles Indonesia; Seventh in...\n",
      "(32000, 2)\n"
     ]
    }
   ],
   "source": [
    "data_retention_perc = 0.33\n",
    "\n",
    "test_perc = 0.1\n",
    "\n",
    "num_lines_to_read =  1500000\n",
    "testing_key = []\n",
    "all_data = []\n",
    "for class_, f in classes_and_files:\n",
    "    # input file path\n",
    "    inputf_full_path = os.path.join(input_dir, f)\n",
    "    # print(inputf_full_path)\n",
    "        \n",
    "    class_file_num = 0\n",
    "    with open(inputf_full_path, encoding=\"utf-8\") as inp_f:\n",
    "        for i in range(num_lines_to_read):\n",
    "            line = inp_f.readline().strip()\n",
    "            if line:  \n",
    "                all_data.append([class_, line])                     \n",
    "    print(\"Done with class\", class_)    \n",
    "    \n",
    "\n",
    "data = pd.DataFrame(all_data, columns=[target_col, text_col])\n",
    "print(data.head())\n",
    "print(data.shape)"
   ]
  },
  {
   "cell_type": "markdown",
   "id": "291443e5",
   "metadata": {},
   "source": [
    "# Shuffle Data"
   ]
  },
  {
   "cell_type": "code",
   "execution_count": 8,
   "id": "39d06120",
   "metadata": {},
   "outputs": [
    {
     "data": {
      "text/html": [
       "<div>\n",
       "<style scoped>\n",
       "    .dataframe tbody tr th:only-of-type {\n",
       "        vertical-align: middle;\n",
       "    }\n",
       "\n",
       "    .dataframe tbody tr th {\n",
       "        vertical-align: top;\n",
       "    }\n",
       "\n",
       "    .dataframe thead th {\n",
       "        text-align: right;\n",
       "    }\n",
       "</style>\n",
       "<table border=\"1\" class=\"dataframe\">\n",
       "  <thead>\n",
       "    <tr style=\"text-align: right;\">\n",
       "      <th></th>\n",
       "      <th>class</th>\n",
       "      <th>text</th>\n",
       "    </tr>\n",
       "  </thead>\n",
       "  <tbody>\n",
       "    <tr>\n",
       "      <th>23100</th>\n",
       "      <td>clickbait</td>\n",
       "      <td>Inside The Most OMG Scene In \"Creed\"</td>\n",
       "    </tr>\n",
       "    <tr>\n",
       "      <th>17362</th>\n",
       "      <td>clickbait</td>\n",
       "      <td>When Do Women Decide To Have Sex</td>\n",
       "    </tr>\n",
       "    <tr>\n",
       "      <th>8993</th>\n",
       "      <td>non_clickbait</td>\n",
       "      <td>Guinean military leader in 'favourable' condit...</td>\n",
       "    </tr>\n",
       "    <tr>\n",
       "      <th>19566</th>\n",
       "      <td>clickbait</td>\n",
       "      <td>How 2015 Were You</td>\n",
       "    </tr>\n",
       "    <tr>\n",
       "      <th>3798</th>\n",
       "      <td>non_clickbait</td>\n",
       "      <td>America's Cup: Team New Zealand wins over Alin...</td>\n",
       "    </tr>\n",
       "  </tbody>\n",
       "</table>\n",
       "</div>"
      ],
      "text/plain": [
       "               class                                               text\n",
       "23100      clickbait               Inside The Most OMG Scene In \"Creed\"\n",
       "17362      clickbait                   When Do Women Decide To Have Sex\n",
       "8993   non_clickbait  Guinean military leader in 'favourable' condit...\n",
       "19566      clickbait                                  How 2015 Were You\n",
       "3798   non_clickbait  America's Cup: Team New Zealand wins over Alin..."
      ]
     },
     "execution_count": 8,
     "metadata": {},
     "output_type": "execute_result"
    }
   ],
   "source": [
    "# shuffle data\n",
    "data = data.sample(frac=1, random_state=42)\n",
    "data.head()"
   ]
  },
  {
   "cell_type": "markdown",
   "id": "6d72e500",
   "metadata": {},
   "source": [
    "# Insert Id Column"
   ]
  },
  {
   "cell_type": "code",
   "execution_count": 9,
   "id": "fadf6289",
   "metadata": {},
   "outputs": [
    {
     "name": "stdout",
     "output_type": "stream",
     "text": [
      "       id          class                                               text\n",
      "23100   0      clickbait               Inside The Most OMG Scene In \"Creed\"\n",
      "17362   1      clickbait                   When Do Women Decide To Have Sex\n",
      "8993    2  non_clickbait  Guinean military leader in 'favourable' condit...\n",
      "19566   3      clickbait                                  How 2015 Were You\n",
      "3798    4  non_clickbait  America's Cup: Team New Zealand wins over Alin...\n"
     ]
    }
   ],
   "source": [
    "# insert Id column \n",
    "if id_col not in data.columns:\n",
    "    N = data.shape[0]\n",
    "    data.insert(0, id_col, np.arange(N))\n",
    "    print(data.head())"
   ]
  },
  {
   "cell_type": "markdown",
   "id": "658ccba0",
   "metadata": {},
   "source": [
    "# Utility to Save DF as a zipped file"
   ]
  },
  {
   "cell_type": "code",
   "execution_count": 10,
   "id": "d4847b8f",
   "metadata": {},
   "outputs": [],
   "source": [
    "def save_df_to_zipped_csv(df, ftype=None): \n",
    "    if ftype is not None: \n",
    "        suffix = f'_{ftype}'\n",
    "    else: \n",
    "        suffix = ''\n",
    "        \n",
    "    zipped_f_name = f'{dataset_name}{suffix}.zip'\n",
    "    archive_f_name = f'{dataset_name}{suffix}.csv'   \n",
    "    compression_opts = dict(method='zip',\n",
    "                        archive_name=archive_f_name)      \n",
    "    df.to_csv(os.path.join(output_dir, zipped_f_name), index=False, compression=compression_opts )"
   ]
  },
  {
   "cell_type": "markdown",
   "id": "7b47dfb2",
   "metadata": {},
   "source": [
    "# Save Main Data File"
   ]
  },
  {
   "cell_type": "code",
   "execution_count": 11,
   "id": "4a9a97bb",
   "metadata": {},
   "outputs": [],
   "source": [
    "# # save original file as csv\n",
    "# data.to_csv(outp_fname, index=False)\n",
    "\n",
    "# save as zipped file \n",
    "save_df_to_zipped_csv(data)"
   ]
  },
  {
   "cell_type": "markdown",
   "id": "91160cd3",
   "metadata": {},
   "source": [
    "# Train Test Split"
   ]
  },
  {
   "cell_type": "code",
   "execution_count": 12,
   "id": "9a2c70c0",
   "metadata": {},
   "outputs": [
    {
     "name": "stdout",
     "output_type": "stream",
     "text": [
      "(28800, 3) (3200, 3)\n"
     ]
    }
   ],
   "source": [
    "from sklearn.model_selection import train_test_split\n",
    "test_size = 0.1\n",
    "\n",
    "data_train, data_test = train_test_split(data, test_size=test_size, random_state=42)\n",
    "print(data_train.shape, data_test.shape)\n",
    "\n",
    "\n",
    "data_test_key = data_test[[id_col, target_col]].copy()\n",
    "data_test = data_test.drop(columns=[target_col])\n",
    "\n",
    "# # Save original files as csv\n",
    "# data_train.to_csv(outp_train_fname, index=False)\n",
    "# data_test.to_csv(outp_test_fname, index=False)\n",
    "# data_test_key.to_csv(outp_test_key_fname, index=False)"
   ]
  },
  {
   "cell_type": "code",
   "execution_count": null,
   "id": "6c5cbfd3",
   "metadata": {},
   "outputs": [],
   "source": [
    "# zip files\n",
    "save_df_to_zipped_csv(data_train, \"train\")\n",
    "save_df_to_zipped_csv(data_test, \"test\")\n",
    "save_df_to_zipped_csv(data_test_key, \"test_key\")"
   ]
  }
 ],
 "metadata": {
  "kernelspec": {
   "display_name": "Python 3 (ipykernel)",
   "language": "python",
   "name": "python3"
  },
  "language_info": {
   "codemirror_mode": {
    "name": "ipython",
    "version": 3
   },
   "file_extension": ".py",
   "mimetype": "text/x-python",
   "name": "python",
   "nbconvert_exporter": "python",
   "pygments_lexer": "ipython3",
   "version": "3.9.7"
  }
 },
 "nbformat": 4,
 "nbformat_minor": 5
}
