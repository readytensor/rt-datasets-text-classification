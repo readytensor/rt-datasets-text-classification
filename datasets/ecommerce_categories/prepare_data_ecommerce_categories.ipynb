{
 "cells": [
  {
   "cell_type": "markdown",
   "id": "50ab5278",
   "metadata": {},
   "source": [
    "# Ecommerce Categories"
   ]
  },
  {
   "cell_type": "code",
   "execution_count": 19,
   "id": "0352619b",
   "metadata": {},
   "outputs": [],
   "source": [
    "import numpy as np, pandas as pd\n",
    "import os, sys\n",
    "import math\n",
    "import shutil\n",
    "import zipfile\n",
    "import string\n",
    "import random\n",
    "import json"
   ]
  },
  {
   "cell_type": "markdown",
   "id": "83d1490c",
   "metadata": {},
   "source": [
    "# Paths and Variables"
   ]
  },
  {
   "cell_type": "code",
   "execution_count": 20,
   "id": "42e12b07",
   "metadata": {},
   "outputs": [],
   "source": [
    "dataset_name = 'ecommerce_categories'"
   ]
  },
  {
   "cell_type": "code",
   "execution_count": 21,
   "id": "b003e89f",
   "metadata": {},
   "outputs": [],
   "source": [
    "input_dir = './raw'\n",
    "output_dir = './processed'\n",
    "\n",
    "outp_fname = os.path.join(output_dir, f'{dataset_name}.csv')\n",
    "outp_train_fname = os.path.join(output_dir, f'{dataset_name}_train.csv')\n",
    "outp_test_fname = os.path.join(output_dir, f'{dataset_name}_test.csv')\n",
    "outp_test_key_fname = os.path.join(output_dir, f'{dataset_name}_test_key.csv')\n",
    "outp_infer_instances = os.path.join(output_dir, f'{dataset_name}_infer_req.json')"
   ]
  },
  {
   "cell_type": "code",
   "execution_count": 22,
   "id": "2e1d2a53",
   "metadata": {},
   "outputs": [],
   "source": [
    "inp_fname = 'ecommerceDataset.csv'"
   ]
  },
  {
   "cell_type": "code",
   "execution_count": 23,
   "id": "3555aa0a",
   "metadata": {},
   "outputs": [],
   "source": [
    "cols = [\"category\", \"description\"]"
   ]
  },
  {
   "cell_type": "markdown",
   "id": "f0c7ad80",
   "metadata": {},
   "source": [
    "# Read data into a DataFrame"
   ]
  },
  {
   "cell_type": "code",
   "execution_count": 24,
   "id": "221b8f9b",
   "metadata": {},
   "outputs": [
    {
     "name": "stdout",
     "output_type": "stream",
     "text": [
      "(50425, 2)\n"
     ]
    },
    {
     "data": {
      "text/html": [
       "<div>\n",
       "<style scoped>\n",
       "    .dataframe tbody tr th:only-of-type {\n",
       "        vertical-align: middle;\n",
       "    }\n",
       "\n",
       "    .dataframe tbody tr th {\n",
       "        vertical-align: top;\n",
       "    }\n",
       "\n",
       "    .dataframe thead th {\n",
       "        text-align: right;\n",
       "    }\n",
       "</style>\n",
       "<table border=\"1\" class=\"dataframe\">\n",
       "  <thead>\n",
       "    <tr style=\"text-align: right;\">\n",
       "      <th></th>\n",
       "      <th>category</th>\n",
       "      <th>description</th>\n",
       "    </tr>\n",
       "  </thead>\n",
       "  <tbody>\n",
       "    <tr>\n",
       "      <th>0</th>\n",
       "      <td>Household</td>\n",
       "      <td>Paper Plane Design Framed Wall Hanging Motivat...</td>\n",
       "    </tr>\n",
       "    <tr>\n",
       "      <th>1</th>\n",
       "      <td>Household</td>\n",
       "      <td>SAF 'Floral' Framed Painting (Wood, 30 inch x ...</td>\n",
       "    </tr>\n",
       "    <tr>\n",
       "      <th>2</th>\n",
       "      <td>Household</td>\n",
       "      <td>SAF 'UV Textured Modern Art Print Framed' Pain...</td>\n",
       "    </tr>\n",
       "    <tr>\n",
       "      <th>3</th>\n",
       "      <td>Household</td>\n",
       "      <td>SAF Flower Print Framed Painting (Synthetic, 1...</td>\n",
       "    </tr>\n",
       "    <tr>\n",
       "      <th>4</th>\n",
       "      <td>Household</td>\n",
       "      <td>Incredible Gifts India Wooden Happy Birthday U...</td>\n",
       "    </tr>\n",
       "  </tbody>\n",
       "</table>\n",
       "</div>"
      ],
      "text/plain": [
       "    category                                        description\n",
       "0  Household  Paper Plane Design Framed Wall Hanging Motivat...\n",
       "1  Household  SAF 'Floral' Framed Painting (Wood, 30 inch x ...\n",
       "2  Household  SAF 'UV Textured Modern Art Print Framed' Pain...\n",
       "3  Household  SAF Flower Print Framed Painting (Synthetic, 1...\n",
       "4  Household  Incredible Gifts India Wooden Happy Birthday U..."
      ]
     },
     "execution_count": 24,
     "metadata": {},
     "output_type": "execute_result"
    }
   ],
   "source": [
    "data = pd.read_csv(os.path.join(input_dir, inp_fname), header=None, names=cols)\n",
    "print(data.shape)\n",
    "data.head()"
   ]
  },
  {
   "cell_type": "code",
   "execution_count": 25,
   "id": "e1d6271a",
   "metadata": {},
   "outputs": [
    {
     "name": "stdout",
     "output_type": "stream",
     "text": [
      "<class 'pandas.core.frame.DataFrame'>\n",
      "RangeIndex: 50425 entries, 0 to 50424\n",
      "Data columns (total 2 columns):\n",
      " #   Column       Non-Null Count  Dtype \n",
      "---  ------       --------------  ----- \n",
      " 0   category     50425 non-null  object\n",
      " 1   description  50424 non-null  object\n",
      "dtypes: object(2)\n",
      "memory usage: 788.0+ KB\n"
     ]
    }
   ],
   "source": [
    "data.info()"
   ]
  },
  {
   "cell_type": "code",
   "execution_count": 26,
   "id": "4ad5149e",
   "metadata": {},
   "outputs": [],
   "source": [
    "id_col = \"id\"\n",
    "target_col = \"category\"\n",
    "text_col = \"description\""
   ]
  },
  {
   "cell_type": "code",
   "execution_count": 27,
   "id": "3607a3a2",
   "metadata": {},
   "outputs": [
    {
     "data": {
      "text/plain": [
       "Household                 19313\n",
       "Books                     11820\n",
       "Electronics               10621\n",
       "Clothing & Accessories     8671\n",
       "Name: category, dtype: int64"
      ]
     },
     "execution_count": 27,
     "metadata": {},
     "output_type": "execute_result"
    }
   ],
   "source": [
    "data[target_col].value_counts()"
   ]
  },
  {
   "cell_type": "markdown",
   "id": "9f800d1a",
   "metadata": {},
   "source": [
    "# Prepare Data"
   ]
  },
  {
   "cell_type": "markdown",
   "id": "2a45f178",
   "metadata": {},
   "source": [
    "### Drop NaN rows"
   ]
  },
  {
   "cell_type": "code",
   "execution_count": 28,
   "id": "fd5bc9db",
   "metadata": {},
   "outputs": [],
   "source": [
    "data = data.dropna()"
   ]
  },
  {
   "cell_type": "code",
   "execution_count": 29,
   "id": "cff3e242",
   "metadata": {},
   "outputs": [
    {
     "name": "stdout",
     "output_type": "stream",
     "text": [
      "<class 'pandas.core.frame.DataFrame'>\n",
      "Int64Index: 50424 entries, 0 to 50424\n",
      "Data columns (total 2 columns):\n",
      " #   Column       Non-Null Count  Dtype \n",
      "---  ------       --------------  ----- \n",
      " 0   category     50424 non-null  object\n",
      " 1   description  50424 non-null  object\n",
      "dtypes: object(2)\n",
      "memory usage: 1.2+ MB\n"
     ]
    }
   ],
   "source": [
    "data.info()"
   ]
  },
  {
   "cell_type": "markdown",
   "id": "d4013b70",
   "metadata": {},
   "source": [
    "# Insert Id Column"
   ]
  },
  {
   "cell_type": "code",
   "execution_count": 30,
   "id": "4e3c8b53",
   "metadata": {},
   "outputs": [
    {
     "name": "stdout",
     "output_type": "stream",
     "text": [
      "   id   category                                        description\n",
      "0   0  Household  Paper Plane Design Framed Wall Hanging Motivat...\n",
      "1   1  Household  SAF 'Floral' Framed Painting (Wood, 30 inch x ...\n",
      "2   2  Household  SAF 'UV Textured Modern Art Print Framed' Pain...\n",
      "3   3  Household  SAF Flower Print Framed Painting (Synthetic, 1...\n",
      "4   4  Household  Incredible Gifts India Wooden Happy Birthday U...\n"
     ]
    }
   ],
   "source": [
    "# insert Id column \n",
    "if id_col not in data.columns:\n",
    "    N = data.shape[0]\n",
    "    data.insert(0, id_col, np.arange(N))\n",
    "    print(data.head())"
   ]
  },
  {
   "cell_type": "markdown",
   "id": "f1ba9596",
   "metadata": {},
   "source": [
    "# Shuffle Data"
   ]
  },
  {
   "cell_type": "code",
   "execution_count": 31,
   "id": "feb03784",
   "metadata": {},
   "outputs": [
    {
     "name": "stdout",
     "output_type": "stream",
     "text": [
      "(50424, 3)\n"
     ]
    },
    {
     "data": {
      "text/html": [
       "<div>\n",
       "<style scoped>\n",
       "    .dataframe tbody tr th:only-of-type {\n",
       "        vertical-align: middle;\n",
       "    }\n",
       "\n",
       "    .dataframe tbody tr th {\n",
       "        vertical-align: top;\n",
       "    }\n",
       "\n",
       "    .dataframe thead th {\n",
       "        text-align: right;\n",
       "    }\n",
       "</style>\n",
       "<table border=\"1\" class=\"dataframe\">\n",
       "  <thead>\n",
       "    <tr style=\"text-align: right;\">\n",
       "      <th></th>\n",
       "      <th>id</th>\n",
       "      <th>category</th>\n",
       "      <th>description</th>\n",
       "    </tr>\n",
       "  </thead>\n",
       "  <tbody>\n",
       "    <tr>\n",
       "      <th>35847</th>\n",
       "      <td>35847</td>\n",
       "      <td>Clothing &amp; Accessories</td>\n",
       "      <td>BREGEO Men's Cotton Casual Blazer This one but...</td>\n",
       "    </tr>\n",
       "    <tr>\n",
       "      <th>13005</th>\n",
       "      <td>13005</td>\n",
       "      <td>Household</td>\n",
       "      <td>HealthSense Chef-Mate KS 50 Digital Kitchen Sc...</td>\n",
       "    </tr>\n",
       "    <tr>\n",
       "      <th>26164</th>\n",
       "      <td>26164</td>\n",
       "      <td>Books</td>\n",
       "      <td>Think &amp; Grow Rich About the Author NAPOLEON HI...</td>\n",
       "    </tr>\n",
       "    <tr>\n",
       "      <th>38330</th>\n",
       "      <td>38330</td>\n",
       "      <td>Clothing &amp; Accessories</td>\n",
       "      <td>ayushicreationa Women's Cotton Sports Padded B...</td>\n",
       "    </tr>\n",
       "    <tr>\n",
       "      <th>45344</th>\n",
       "      <td>45343</td>\n",
       "      <td>Electronics</td>\n",
       "      <td>BlueRigger High Speed Micro HDMI to HDMI Cable...</td>\n",
       "    </tr>\n",
       "  </tbody>\n",
       "</table>\n",
       "</div>"
      ],
      "text/plain": [
       "          id                category  \\\n",
       "35847  35847  Clothing & Accessories   \n",
       "13005  13005               Household   \n",
       "26164  26164                   Books   \n",
       "38330  38330  Clothing & Accessories   \n",
       "45344  45343             Electronics   \n",
       "\n",
       "                                             description  \n",
       "35847  BREGEO Men's Cotton Casual Blazer This one but...  \n",
       "13005  HealthSense Chef-Mate KS 50 Digital Kitchen Sc...  \n",
       "26164  Think & Grow Rich About the Author NAPOLEON HI...  \n",
       "38330  ayushicreationa Women's Cotton Sports Padded B...  \n",
       "45344  BlueRigger High Speed Micro HDMI to HDMI Cable...  "
      ]
     },
     "execution_count": 31,
     "metadata": {},
     "output_type": "execute_result"
    }
   ],
   "source": [
    "# shuffle data\n",
    "data = data.sample(frac=1, random_state=42)\n",
    "print(data.shape)\n",
    "data.head()"
   ]
  },
  {
   "cell_type": "markdown",
   "id": "325f2189",
   "metadata": {},
   "source": [
    "# Utility to Save DF as a zipped file"
   ]
  },
  {
   "cell_type": "code",
   "execution_count": 32,
   "id": "06ad792a",
   "metadata": {},
   "outputs": [],
   "source": [
    "def save_df_to_zipped_csv(df, ftype=None): \n",
    "    if ftype is not None: \n",
    "        suffix = f'_{ftype}'\n",
    "    else: \n",
    "        suffix = ''\n",
    "        \n",
    "    zipped_f_name = f'{dataset_name}{suffix}.zip'\n",
    "    archive_f_name = f'{dataset_name}{suffix}.csv'   \n",
    "    compression_opts = dict(method='zip',\n",
    "                        archive_name=archive_f_name)      \n",
    "    df.to_csv(os.path.join(output_dir, zipped_f_name), index=False, compression=compression_opts )"
   ]
  },
  {
   "cell_type": "markdown",
   "id": "a44b8a8d",
   "metadata": {},
   "source": [
    "# Save Main Data File"
   ]
  },
  {
   "cell_type": "code",
   "execution_count": 33,
   "id": "25d0737e",
   "metadata": {},
   "outputs": [],
   "source": [
    "# # save original file as csv\n",
    "# data.to_csv(outp_fname, index=False)\n",
    "\n",
    "# save as zipped file \n",
    "save_df_to_zipped_csv(data)"
   ]
  },
  {
   "cell_type": "markdown",
   "id": "47104ddb",
   "metadata": {},
   "source": [
    "# Train Test Split"
   ]
  },
  {
   "cell_type": "code",
   "execution_count": 34,
   "id": "7ba98f1f",
   "metadata": {},
   "outputs": [
    {
     "name": "stdout",
     "output_type": "stream",
     "text": [
      "(45381, 3) (5043, 2) (5043, 2)\n"
     ]
    }
   ],
   "source": [
    "from sklearn.model_selection import train_test_split\n",
    "test_size = 0.1\n",
    "\n",
    "data_train, data_test = train_test_split(data, test_size=test_size, random_state=42)\n",
    "\n",
    "\n",
    "data_test_key = data_test[[id_col, target_col]].copy()\n",
    "data_test = data_test.drop(columns=[target_col])\n",
    "print(data_train.shape, data_test.shape, data_test_key.shape)\n",
    "\n",
    "# # Save original files as csv\n",
    "# data_train.to_csv(outp_train_fname, index=False)\n",
    "# data_test.to_csv(outp_test_fname, index=False)\n",
    "# data_test_key.to_csv(outp_test_key_fname, index=False)\n"
   ]
  },
  {
   "cell_type": "code",
   "execution_count": 35,
   "id": "af911031",
   "metadata": {},
   "outputs": [],
   "source": [
    "# zip files\n",
    "save_df_to_zipped_csv(data_train, \"train\")\n",
    "save_df_to_zipped_csv(data_test, \"test\")\n",
    "save_df_to_zipped_csv(data_test_key, \"test_key\")"
   ]
  },
  {
   "cell_type": "markdown",
   "id": "3cc1a2eb",
   "metadata": {},
   "source": [
    "# JSON inference request instance"
   ]
  },
  {
   "cell_type": "code",
   "execution_count": 36,
   "id": "94100aec",
   "metadata": {},
   "outputs": [
    {
     "name": "stdout",
     "output_type": "stream",
     "text": [
      "{'instances': [{'id': 37627, 'description': \"Dada Shopy Comfort Fit Rayon Cotton Pant Palazzo for Women combo 2 (Black::White) Beautifully crafted regular wear rayon cotton pant palazzo to add grace to your normal attire. This can be carried upon formal's, casual or ethnic occation. Fabric:- Rayon Cotton Color:- Two color Size:- Free Size (Waist - Min 28 to Max 40 intches, Length - 41 intch, Hips - 43 intch) Fit :- Regular Fit\"}]}\n"
     ]
    }
   ],
   "source": [
    "instance = data_test.reset_index(drop=True).loc[0].to_dict()\n",
    "infer_req_instance_dict = {  \"instances\": [ {**instance}, ] }\n",
    "print(infer_req_instance_dict)\n",
    "   \n",
    "with open(outp_infer_instances, 'w', encoding='utf8') as f:\n",
    "    json.dump(infer_req_instance_dict, f, indent=2, ensure_ascii=False)"
   ]
  },
  {
   "cell_type": "code",
   "execution_count": null,
   "id": "98f2f27c",
   "metadata": {},
   "outputs": [],
   "source": []
  }
 ],
 "metadata": {
  "kernelspec": {
   "display_name": "Python 3 (ipykernel)",
   "language": "python",
   "name": "python3"
  },
  "language_info": {
   "codemirror_mode": {
    "name": "ipython",
    "version": 3
   },
   "file_extension": ".py",
   "mimetype": "text/x-python",
   "name": "python",
   "nbconvert_exporter": "python",
   "pygments_lexer": "ipython3",
   "version": "3.9.7"
  }
 },
 "nbformat": 4,
 "nbformat_minor": 5
}
