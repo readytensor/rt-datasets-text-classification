{
 "cells": [
  {
   "cell_type": "markdown",
   "id": "ce1bc9c5",
   "metadata": {},
   "source": [
    "# IMDB"
   ]
  },
  {
   "cell_type": "code",
   "execution_count": 38,
   "id": "0352619b",
   "metadata": {},
   "outputs": [],
   "source": [
    "import os\n",
    "import tarfile\n",
    "import numpy as np\n",
    "import pandas as pd\n"
   ]
  },
  {
   "cell_type": "markdown",
   "id": "3574a7e6",
   "metadata": {},
   "source": [
    "# Paths and Variables"
   ]
  },
  {
   "cell_type": "code",
   "execution_count": 39,
   "id": "b12ac3ce",
   "metadata": {},
   "outputs": [],
   "source": [
    "dataset_name = \"imdb\""
   ]
  },
  {
   "cell_type": "code",
   "execution_count": 40,
   "id": "b003e89f",
   "metadata": {},
   "outputs": [],
   "source": [
    "input_dir = './data'\n",
    "output_dir = f'./../../processed/{dataset_name}/'\n",
    "os.makedirs(output_dir, exist_ok=True)\n",
    "outp_fname = os.path.join(output_dir, f'{dataset_name}.csv')"
   ]
  },
  {
   "cell_type": "code",
   "execution_count": 41,
   "id": "3f6936cc",
   "metadata": {},
   "outputs": [],
   "source": [
    "def extract_tar_gz(tar_path, destination):\n",
    "    \"\"\"\n",
    "    Extracts a .tar.gz archive to a specified destination directory.\n",
    "    \n",
    "    Parameters:\n",
    "        tar_path (str): The path to the .tar.gz file.\n",
    "        destination (str): The directory where the contents will be extracted.\n",
    "    \"\"\"\n",
    "    # Open the tar.gz file\n",
    "    with tarfile.open(tar_path, 'r:gz') as tar:\n",
    "        # Extract all contents to the destination directory\n",
    "        tar.extractall(path=destination)\n",
    "        print(f'Extracted all contents to {destination}')\n"
   ]
  },
  {
   "cell_type": "code",
   "execution_count": 42,
   "id": "cbc270a6",
   "metadata": {},
   "outputs": [
    {
     "name": "stdout",
     "output_type": "stream",
     "text": [
      "Extracted all contents to ./data\n"
     ]
    }
   ],
   "source": [
    "extract_tar_gz(os.path.join(input_dir, 'aclImdb_v1.tar.gz'), input_dir)"
   ]
  },
  {
   "cell_type": "code",
   "execution_count": 43,
   "id": "25d0737e",
   "metadata": {},
   "outputs": [],
   "source": [
    "classes = ['pos', 'neg'] "
   ]
  },
  {
   "cell_type": "code",
   "execution_count": 44,
   "id": "33e237c4",
   "metadata": {},
   "outputs": [],
   "source": [
    "id_col = \"id\"\n",
    "target_col = \"class\"\n",
    "text_col = \"text\""
   ]
  },
  {
   "cell_type": "markdown",
   "id": "cd771049",
   "metadata": {},
   "source": [
    "# Read data into a DataFrame"
   ]
  },
  {
   "cell_type": "code",
   "execution_count": 45,
   "id": "873fedf3",
   "metadata": {},
   "outputs": [
    {
     "name": "stdout",
     "output_type": "stream",
     "text": [
      "pos 12500\n",
      "neg 12500\n",
      "25000\n",
      "pos 12500\n",
      "neg 12500\n",
      "25000\n",
      "            id class                                               text\n",
      "0   4715_9.txt   pos  For a movie that gets no respect there sure ar...\n",
      "1  12390_8.txt   pos  Bizarre horror movie filled with famous faces ...\n",
      "2   8329_7.txt   pos  A solid, if unremarkable film. Matthau, as Ein...\n",
      "3   9063_8.txt   pos  It's a strange feeling to sit alone in a theat...\n",
      "4  3092_10.txt   pos  You probably all already know this by now, but...\n"
     ]
    }
   ],
   "source": [
    "train_dir = os.path.join(input_dir, 'aclimdb', 'train')\n",
    "test_dir = os.path.join(input_dir, 'aclimdb', 'test')\n",
    "\n",
    "dirs = [train_dir, test_dir]\n",
    "for dir in dirs:\n",
    "    all_data = []\n",
    "    for class_ in classes:\n",
    "        dir_path = os.path.join(dir, class_)\n",
    "        files = os.listdir(dir_path)\n",
    "        print(class_, len(files))\n",
    "        \n",
    "        for f in files: \n",
    "            file_input_path = os.path.join(dir, class_, f)\n",
    "            \n",
    "            with open(file_input_path, encoding=\"utf-8\") as inp_f:\n",
    "                text = inp_f.read()\n",
    "            all_data.append([f, class_, text])\n",
    "\n",
    "    print(len(all_data))\n",
    "\n",
    "    if dir == train_dir:\n",
    "        data_train = pd.DataFrame(all_data, columns=[id_col, target_col, text_col])\n",
    "    else:\n",
    "        data_test = pd.DataFrame(all_data, columns=[id_col, target_col, text_col])\n",
    "\n",
    "print(data_train.head())"
   ]
  },
  {
   "cell_type": "markdown",
   "id": "8898ecdd",
   "metadata": {},
   "source": [
    "# Shuffle Data"
   ]
  },
  {
   "cell_type": "code",
   "execution_count": 46,
   "id": "3515943e",
   "metadata": {},
   "outputs": [
    {
     "data": {
      "text/html": [
       "<div>\n",
       "<style scoped>\n",
       "    .dataframe tbody tr th:only-of-type {\n",
       "        vertical-align: middle;\n",
       "    }\n",
       "\n",
       "    .dataframe tbody tr th {\n",
       "        vertical-align: top;\n",
       "    }\n",
       "\n",
       "    .dataframe thead th {\n",
       "        text-align: right;\n",
       "    }\n",
       "</style>\n",
       "<table border=\"1\" class=\"dataframe\">\n",
       "  <thead>\n",
       "    <tr style=\"text-align: right;\">\n",
       "      <th></th>\n",
       "      <th>id</th>\n",
       "      <th>class</th>\n",
       "      <th>text</th>\n",
       "    </tr>\n",
       "  </thead>\n",
       "  <tbody>\n",
       "    <tr>\n",
       "      <th>6868</th>\n",
       "      <td>11620_8.txt</td>\n",
       "      <td>pos</td>\n",
       "      <td>Great little thriller. I was expecting some ty...</td>\n",
       "    </tr>\n",
       "    <tr>\n",
       "      <th>24016</th>\n",
       "      <td>9004_1.txt</td>\n",
       "      <td>neg</td>\n",
       "      <td>Nothing could have saved this movie, not even ...</td>\n",
       "    </tr>\n",
       "    <tr>\n",
       "      <th>9668</th>\n",
       "      <td>3718_8.txt</td>\n",
       "      <td>pos</td>\n",
       "      <td>This was a good movie. It wasn't your typical ...</td>\n",
       "    </tr>\n",
       "    <tr>\n",
       "      <th>13640</th>\n",
       "      <td>5836_2.txt</td>\n",
       "      <td>neg</td>\n",
       "      <td>From the pen of Richard Condon (The Manchurian...</td>\n",
       "    </tr>\n",
       "    <tr>\n",
       "      <th>14018</th>\n",
       "      <td>902_4.txt</td>\n",
       "      <td>neg</td>\n",
       "      <td>I suppose that today this film has relevance b...</td>\n",
       "    </tr>\n",
       "  </tbody>\n",
       "</table>\n",
       "</div>"
      ],
      "text/plain": [
       "                id class                                               text\n",
       "6868   11620_8.txt   pos  Great little thriller. I was expecting some ty...\n",
       "24016   9004_1.txt   neg  Nothing could have saved this movie, not even ...\n",
       "9668    3718_8.txt   pos  This was a good movie. It wasn't your typical ...\n",
       "13640   5836_2.txt   neg  From the pen of Richard Condon (The Manchurian...\n",
       "14018    902_4.txt   neg  I suppose that today this film has relevance b..."
      ]
     },
     "execution_count": 46,
     "metadata": {},
     "output_type": "execute_result"
    }
   ],
   "source": [
    "# shuffle data\n",
    "data = data_train.sample(frac=1, random_state=42)\n",
    "data.head()"
   ]
  },
  {
   "cell_type": "markdown",
   "id": "c784bbdd",
   "metadata": {},
   "source": [
    "# Insert Id Column"
   ]
  },
  {
   "cell_type": "code",
   "execution_count": 47,
   "id": "9c3216c0",
   "metadata": {},
   "outputs": [],
   "source": [
    "# insert Id column \n",
    "if id_col not in data.columns:\n",
    "    N = data.shape[0]\n",
    "    data.insert(0, id_col, np.arange(N))\n",
    "    print(data.head())"
   ]
  },
  {
   "cell_type": "markdown",
   "id": "36677bf4",
   "metadata": {},
   "source": [
    "# Utility to Save DF as a zipped file"
   ]
  },
  {
   "cell_type": "code",
   "execution_count": 48,
   "id": "af411d31",
   "metadata": {},
   "outputs": [],
   "source": [
    "def save_df_to_zipped_csv(df, ftype=None): \n",
    "    if ftype is not None: \n",
    "        suffix = f'_{ftype}'\n",
    "    else: \n",
    "        suffix = ''\n",
    "        \n",
    "    zipped_f_name = f'{dataset_name}{suffix}.zip'\n",
    "    archive_f_name = f'{dataset_name}{suffix}.csv'   \n",
    "    compression_opts = dict(method='zip',\n",
    "                        archive_name=archive_f_name)      \n",
    "    df.to_csv(os.path.join(output_dir, zipped_f_name), index=False, compression=compression_opts )"
   ]
  },
  {
   "cell_type": "code",
   "execution_count": 49,
   "id": "40230c07",
   "metadata": {},
   "outputs": [],
   "source": [
    "data = pd.concat([data_train, data_test], axis=0)\n",
    "data_test_key = data_test[[id_col, target_col]].copy()\n",
    "data_test = data_test.drop(columns=[target_col])"
   ]
  },
  {
   "cell_type": "markdown",
   "id": "8b0779ae",
   "metadata": {},
   "source": [
    "# Save Main Data File"
   ]
  },
  {
   "cell_type": "code",
   "execution_count": 50,
   "id": "3d68d144",
   "metadata": {},
   "outputs": [],
   "source": [
    "# # save original file as csv\n",
    "# data.to_csv(outp_fname, index=False)\n",
    "\n",
    "# save as zipped file \n",
    "save_df_to_zipped_csv(data)"
   ]
  },
  {
   "cell_type": "code",
   "execution_count": 51,
   "id": "b0e84b36",
   "metadata": {},
   "outputs": [],
   "source": [
    "# zip files\n",
    "save_df_to_zipped_csv(data_train, \"train\")\n",
    "save_df_to_zipped_csv(data_test, \"test\")\n",
    "save_df_to_zipped_csv(data_test_key, \"test_key\")"
   ]
  },
  {
   "cell_type": "code",
   "execution_count": null,
   "id": "08acf369",
   "metadata": {},
   "outputs": [],
   "source": []
  }
 ],
 "metadata": {
  "kernelspec": {
   "display_name": "Python 3 (ipykernel)",
   "language": "python",
   "name": "python3"
  },
  "language_info": {
   "codemirror_mode": {
    "name": "ipython",
    "version": 3
   },
   "file_extension": ".py",
   "mimetype": "text/x-python",
   "name": "python",
   "nbconvert_exporter": "python",
   "pygments_lexer": "ipython3",
   "version": "3.11.0"
  }
 },
 "nbformat": 4,
 "nbformat_minor": 5
}
