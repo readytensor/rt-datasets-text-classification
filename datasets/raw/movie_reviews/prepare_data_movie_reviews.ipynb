{
 "cells": [
  {
   "cell_type": "markdown",
   "id": "ce1bc9c5",
   "metadata": {},
   "source": [
    "# Movie Reviews"
   ]
  },
  {
   "cell_type": "code",
   "execution_count": 1,
   "id": "0352619b",
   "metadata": {},
   "outputs": [],
   "source": [
    "import os\n",
    "import numpy as np\n",
    "import pandas as pd\n"
   ]
  },
  {
   "cell_type": "markdown",
   "id": "3574a7e6",
   "metadata": {},
   "source": [
    "# Paths and Variables"
   ]
  },
  {
   "cell_type": "code",
   "execution_count": 3,
   "id": "b12ac3ce",
   "metadata": {},
   "outputs": [],
   "source": [
    "dataset_name = \"movie_reviews\""
   ]
  },
  {
   "cell_type": "code",
   "execution_count": 4,
   "id": "b003e89f",
   "metadata": {},
   "outputs": [],
   "source": [
    "input_dir = './data'\n",
    "output_dir = f'./../../processed/{dataset_name}/'\n",
    "os.makedirs(output_dir, exist_ok=True)\n",
    "outp_fname = os.path.join(output_dir, f'{dataset_name}.csv')"
   ]
  },
  {
   "cell_type": "code",
   "execution_count": 11,
   "id": "25d0737e",
   "metadata": {},
   "outputs": [
    {
     "data": {
      "text/plain": [
       "['pos', 'neg']"
      ]
     },
     "execution_count": 11,
     "metadata": {},
     "output_type": "execute_result"
    }
   ],
   "source": [
    "classes = [item.removesuffix('.zip') for item in os.listdir(input_dir) if item.endswith('.zip')]\n",
    "classes = [c for c in classes if c != 'orig_data']\n",
    "classes"
   ]
  },
  {
   "cell_type": "code",
   "execution_count": 12,
   "id": "33e237c4",
   "metadata": {},
   "outputs": [],
   "source": [
    "id_col = \"id\"\n",
    "target_col = \"class\"\n",
    "text_col = \"text\""
   ]
  },
  {
   "cell_type": "markdown",
   "id": "cd771049",
   "metadata": {},
   "source": [
    "# Read data into a DataFrame"
   ]
  },
  {
   "cell_type": "code",
   "execution_count": 16,
   "id": "873fedf3",
   "metadata": {},
   "outputs": [
    {
     "name": "stdout",
     "output_type": "stream",
     "text": [
      "pos 1000\n",
      "neg 1000\n",
      "2000\n",
      "                id class                                               text\n",
      "0  cv839_21467.txt   pos  assume nothing . \\nthe phrase is perhaps one o...\n",
      "1  cv034_29647.txt   pos  plot : derek zoolander is a male model . \\nhe ...\n",
      "2  cv908_16009.txt   pos  i actually am a fan of the original 1961 or so...\n",
      "3  cv748_12786.txt   pos  a movie that's been as highly built up as the ...\n",
      "4  cv253_10077.txt   pos   \" good will hunting \" is two movies in one : ...\n"
     ]
    }
   ],
   "source": [
    "## !!! decompress the \"pos\" and \"neg\" zipped folders in 'raw' folder before running this.\n",
    "\n",
    "all_data = []\n",
    "for class_ in classes:\n",
    "    dir_path = os.path.join(input_dir, class_)\n",
    "    files = os.listdir(dir_path)\n",
    "    print(class_, len(files))\n",
    "    \n",
    "    for f in files: \n",
    "        file_input_path = os.path.join(input_dir, class_, f)\n",
    "        \n",
    "        with open(file_input_path, encoding=\"utf-8\") as inp_f:\n",
    "            text = inp_f.read()\n",
    "        all_data.append([f, class_, text])\n",
    "\n",
    "print(len(all_data))\n",
    "\n",
    "data = pd.DataFrame(all_data, columns=[id_col, target_col, text_col])\n",
    "print(data.head())"
   ]
  },
  {
   "cell_type": "markdown",
   "id": "8898ecdd",
   "metadata": {},
   "source": [
    "# Shuffle Data"
   ]
  },
  {
   "cell_type": "code",
   "execution_count": 17,
   "id": "3515943e",
   "metadata": {},
   "outputs": [
    {
     "data": {
      "text/html": [
       "<div>\n",
       "<style scoped>\n",
       "    .dataframe tbody tr th:only-of-type {\n",
       "        vertical-align: middle;\n",
       "    }\n",
       "\n",
       "    .dataframe tbody tr th {\n",
       "        vertical-align: top;\n",
       "    }\n",
       "\n",
       "    .dataframe thead th {\n",
       "        text-align: right;\n",
       "    }\n",
       "</style>\n",
       "<table border=\"1\" class=\"dataframe\">\n",
       "  <thead>\n",
       "    <tr style=\"text-align: right;\">\n",
       "      <th></th>\n",
       "      <th>id</th>\n",
       "      <th>class</th>\n",
       "      <th>text</th>\n",
       "    </tr>\n",
       "  </thead>\n",
       "  <tbody>\n",
       "    <tr>\n",
       "      <th>1860</th>\n",
       "      <td>cv528_11669.txt</td>\n",
       "      <td>neg</td>\n",
       "      <td>here's a rarity : a children's film that attem...</td>\n",
       "    </tr>\n",
       "    <tr>\n",
       "      <th>353</th>\n",
       "      <td>cv692_15451.txt</td>\n",
       "      <td>pos</td>\n",
       "      <td>making a sequel to a widely beloved film is a ...</td>\n",
       "    </tr>\n",
       "    <tr>\n",
       "      <th>1333</th>\n",
       "      <td>cv964_5794.txt</td>\n",
       "      <td>neg</td>\n",
       "      <td>ever feel you're spending your whole life on t...</td>\n",
       "    </tr>\n",
       "    <tr>\n",
       "      <th>905</th>\n",
       "      <td>cv805_19601.txt</td>\n",
       "      <td>pos</td>\n",
       "      <td>after sixteen years francis ford copolla has a...</td>\n",
       "    </tr>\n",
       "    <tr>\n",
       "      <th>1289</th>\n",
       "      <td>cv656_25395.txt</td>\n",
       "      <td>neg</td>\n",
       "      <td>it seemed like the perfect concept . \\nwhat be...</td>\n",
       "    </tr>\n",
       "  </tbody>\n",
       "</table>\n",
       "</div>"
      ],
      "text/plain": [
       "                   id class                                               text\n",
       "1860  cv528_11669.txt   neg  here's a rarity : a children's film that attem...\n",
       "353   cv692_15451.txt   pos  making a sequel to a widely beloved film is a ...\n",
       "1333   cv964_5794.txt   neg  ever feel you're spending your whole life on t...\n",
       "905   cv805_19601.txt   pos  after sixteen years francis ford copolla has a...\n",
       "1289  cv656_25395.txt   neg  it seemed like the perfect concept . \\nwhat be..."
      ]
     },
     "execution_count": 17,
     "metadata": {},
     "output_type": "execute_result"
    }
   ],
   "source": [
    "# shuffle data\n",
    "data = data.sample(frac=1, random_state=42)\n",
    "data.head()"
   ]
  },
  {
   "cell_type": "markdown",
   "id": "c784bbdd",
   "metadata": {},
   "source": [
    "# Insert Id Column"
   ]
  },
  {
   "cell_type": "code",
   "execution_count": 18,
   "id": "9c3216c0",
   "metadata": {},
   "outputs": [],
   "source": [
    "# insert Id column \n",
    "if id_col not in data.columns:\n",
    "    N = data.shape[0]\n",
    "    data.insert(0, id_col, np.arange(N))\n",
    "    print(data.head())"
   ]
  },
  {
   "cell_type": "markdown",
   "id": "36677bf4",
   "metadata": {},
   "source": [
    "# Utility to Save DF as a zipped file"
   ]
  },
  {
   "cell_type": "code",
   "execution_count": 19,
   "id": "af411d31",
   "metadata": {},
   "outputs": [],
   "source": [
    "def save_df_to_zipped_csv(df, ftype=None): \n",
    "    if ftype is not None: \n",
    "        suffix = f'_{ftype}'\n",
    "    else: \n",
    "        suffix = ''\n",
    "        \n",
    "    zipped_f_name = f'{dataset_name}{suffix}.zip'\n",
    "    archive_f_name = f'{dataset_name}{suffix}.csv'   \n",
    "    compression_opts = dict(method='zip',\n",
    "                        archive_name=archive_f_name)      \n",
    "    df.to_csv(os.path.join(output_dir, zipped_f_name), index=False, compression=compression_opts )"
   ]
  },
  {
   "cell_type": "markdown",
   "id": "8b0779ae",
   "metadata": {},
   "source": [
    "# Save Main Data File"
   ]
  },
  {
   "cell_type": "code",
   "execution_count": 20,
   "id": "3d68d144",
   "metadata": {},
   "outputs": [],
   "source": [
    "# # save original file as csv\n",
    "# data.to_csv(outp_fname, index=False)\n",
    "\n",
    "# save as zipped file \n",
    "save_df_to_zipped_csv(data)"
   ]
  },
  {
   "cell_type": "code",
   "execution_count": 21,
   "id": "bfcbf3f2",
   "metadata": {},
   "outputs": [
    {
     "data": {
      "text/plain": [
       "(2000, 3)"
      ]
     },
     "execution_count": 21,
     "metadata": {},
     "output_type": "execute_result"
    }
   ],
   "source": [
    "data.shape"
   ]
  },
  {
   "cell_type": "markdown",
   "id": "be883988",
   "metadata": {},
   "source": [
    "# Train Test Split"
   ]
  },
  {
   "cell_type": "code",
   "execution_count": 22,
   "id": "819af29c",
   "metadata": {},
   "outputs": [
    {
     "name": "stdout",
     "output_type": "stream",
     "text": [
      "(1800, 3) (200, 2) (200, 2)\n"
     ]
    }
   ],
   "source": [
    "from sklearn.model_selection import train_test_split\n",
    "test_size = 0.1\n",
    "\n",
    "data_train, data_test = train_test_split(data, test_size=test_size, random_state=42)\n",
    "\n",
    "\n",
    "data_test_key = data_test[[id_col, target_col]].copy()\n",
    "data_test = data_test.drop(columns=[target_col])\n",
    "print(data_train.shape, data_test.shape, data_test_key.shape)\n",
    "\n",
    "# # Save original files as csv\n",
    "# data_train.to_csv(outp_train_fname, index=False)\n",
    "# data_test.to_csv(outp_test_fname, index=False)\n",
    "# data_test_key.to_csv(outp_test_key_fname, index=False)\n"
   ]
  },
  {
   "cell_type": "code",
   "execution_count": 23,
   "id": "b0e84b36",
   "metadata": {},
   "outputs": [],
   "source": [
    "# zip files\n",
    "save_df_to_zipped_csv(data_train, \"train\")\n",
    "save_df_to_zipped_csv(data_test, \"test\")\n",
    "save_df_to_zipped_csv(data_test_key, \"test_key\")"
   ]
  },
  {
   "cell_type": "code",
   "execution_count": null,
   "id": "08acf369",
   "metadata": {},
   "outputs": [],
   "source": []
  }
 ],
 "metadata": {
  "kernelspec": {
   "display_name": "Python 3 (ipykernel)",
   "language": "python",
   "name": "python3"
  },
  "language_info": {
   "codemirror_mode": {
    "name": "ipython",
    "version": 3
   },
   "file_extension": ".py",
   "mimetype": "text/x-python",
   "name": "python",
   "nbconvert_exporter": "python",
   "pygments_lexer": "ipython3",
   "version": "3.11.0"
  }
 },
 "nbformat": 4,
 "nbformat_minor": 5
}
